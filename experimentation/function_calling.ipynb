{
 "cells": [
  {
   "cell_type": "code",
   "execution_count": 43,
   "metadata": {},
   "outputs": [],
   "source": [
    "import os\n",
    "import openai\n",
    "from openai import OpenAI\n",
    "import json"
   ]
  },
  {
   "cell_type": "code",
   "execution_count": 5,
   "metadata": {},
   "outputs": [],
   "source": [
    "client = OpenAI(api_key = os.getenv('OPENAI_API_KEY'))"
   ]
  },
  {
   "cell_type": "code",
   "execution_count": 93,
   "metadata": {},
   "outputs": [],
   "source": [
    "system_prompt = \"\"\"\n",
    "You are a very experienced Personal Assistant with expertise in drafting out informal emails to from conversations.\n",
    "Generate an appropriate subject line and body for the text of the conversation provided.  Do not leave any template to be filled. Generate a complete and thorough email with the context you have.\"\"\""
   ]
  },
  {
   "cell_type": "code",
   "execution_count": 126,
   "metadata": {},
   "outputs": [],
   "source": [
    "generate_email_tool = [\n",
    "    {\n",
    "        'type': 'function',\n",
    "        'function': {\n",
    "            'name': 'extract_email_details',\n",
    "            'description': 'Extract/Generate a subject/theme and body for an email from the provided text. Ignore all email addresses in the text.',\n",
    "            'parameters': {\n",
    "                'type': 'object',\n",
    "                'properties': {\n",
    "                    'subject': {\n",
    "                        'type': 'string',\n",
    "                        'items': {\n",
    "                            'type': 'string',\n",
    "                        },\n",
    "                        'description': 'The subject of the email extracted from the text. If multiple emails are found, do not personalise the email. And do not include any extra information. Only details from the text.  Do not leave any template to be filled. Generate a complete and thorough body of the email with the context you have.\"'\n",
    "                    },\n",
    "                    'body': {\n",
    "                        'type': 'string',\n",
    "                        'items': {\n",
    "                            'type': 'string',\n",
    "                        },\n",
    "                        'description': 'A fully formatted body of the email with the appropriate greetings and closings.'\n",
    "                    }\n",
    "                }\n",
    "            },\n",
    "            'required': ['subject', 'body']\n",
    "        },\n",
    "        'instruction': system_prompt\n",
    "    }\n",
    "]"
   ]
  },
  {
   "cell_type": "code",
   "execution_count": 127,
   "metadata": {},
   "outputs": [],
   "source": [
    "prompt = \"I have a meeting by 6pm today and I want to send an email reminder to my husband to help pick up the kids from school and take them home for me. Draft an email reminder to my husband showing my concern and I would greatly appreciate the help just for today. My husband's email address is samuelbamgbola@gmail.com. And my name is Samuel Bamgbola\""
   ]
  },
  {
   "cell_type": "code",
   "execution_count": 128,
   "metadata": {},
   "outputs": [],
   "source": [
    "completion = client.chat.completions.create(\n",
    "    temperature=0.5,\n",
    "    model=\"gpt-4o\",\n",
    "    messages = [\n",
    "        {\"role\": \"system\", \"content\": system_prompt},\n",
    "        {\"role\": \"user\", \"content\": prompt}],\n",
    "    tools=generate_email_tool,\n",
    "    tool_choice='required',\n",
    ")"
   ]
  },
  {
   "cell_type": "code",
   "execution_count": 129,
   "metadata": {},
   "outputs": [],
   "source": [
    "response = completion.choices[0].message.tool_calls[0].function.arguments"
   ]
  },
  {
   "cell_type": "code",
   "execution_count": 133,
   "metadata": {},
   "outputs": [
    {
     "data": {
      "text/plain": [
       "'{\"subject\": \"Reminder to Pick Up Kids from School\", \"body\": \"Hi dear,\\\\n\\\\nI hope you\\'re doing well. I just wanted to send a quick reminder that I have a meeting at 6pm today. Could you please help pick up the kids from school and take them home for me? I would greatly appreciate the help just for today.\\\\n\\\\nThank you so much!\\\\n\\\\nBest,\\\\nSamuel\"}'"
      ]
     },
     "execution_count": 133,
     "metadata": {},
     "output_type": "execute_result"
    }
   ],
   "source": [
    "completion.choices[0].message.tool_calls[0].function.arguments"
   ]
  },
  {
   "cell_type": "code",
   "execution_count": 130,
   "metadata": {},
   "outputs": [],
   "source": [
    "full_response = json.loads(response)"
   ]
  },
  {
   "cell_type": "code",
   "execution_count": 131,
   "metadata": {},
   "outputs": [
    {
     "name": "stdout",
     "output_type": "stream",
     "text": [
      "Reminder to Pick Up Kids from School\n"
     ]
    }
   ],
   "source": [
    "print(full_response[\"subject\"])"
   ]
  },
  {
   "cell_type": "code",
   "execution_count": 132,
   "metadata": {},
   "outputs": [
    {
     "name": "stdout",
     "output_type": "stream",
     "text": [
      "Hi dear,\n",
      "\n",
      "I hope you're doing well. I just wanted to send a quick reminder that I have a meeting at 6pm today. Could you please help pick up the kids from school and take them home for me? I would greatly appreciate the help just for today.\n",
      "\n",
      "Thank you so much!\n",
      "\n",
      "Best,\n",
      "Samuel\n"
     ]
    }
   ],
   "source": [
    "print(full_response[\"body\"])"
   ]
  },
  {
   "cell_type": "code",
   "execution_count": 141,
   "metadata": {},
   "outputs": [],
   "source": [
    "from PyPDF2 import PdfWriter, PdfReader\n",
    "import io\n",
    "from reportlab.pdfgen import canvas\n",
    "from reportlab.lib.pagesizes import letter\n",
    "\n",
    "packet = io.BytesIO()\n",
    "can = canvas.Canvas(packet, pagesize=letter)\n",
    "can.drawString(10, 100, \"Hello world\")\n",
    "can.save()\n",
    "\n",
    "#move to the beginning of the StringIO buffer\n",
    "packet.seek(0)\n",
    "\n",
    "# create a new PDF with Reportlab\n",
    "new_pdf = PdfReader(packet)\n",
    "# read your existing PDF\n",
    "existing_pdf = PdfReader(open(\"/Users/mac/Documents/Mailme.AI/letterhead/base.pdf\", \"rb\"))\n",
    "# packet_2 = io.BytesIO()\n",
    "\n",
    "# output = PdfReader(packet_2)\n",
    "# add the \"watermark\" (which is the new pdf) on the existing page\n",
    "page = existing_pdf.pages[0]\n",
    "page.merge_page(new_pdf.pages[0])\n",
    "output = PdfWriter(open(\"/Users/mac/Documents/Mailme.AI/letterhead/blank.pdf\", \"rb\"))\n",
    "# output.add_page(page)\n",
    "# finally, write \"output\" to a real file\n",
    "output_stream = open(\"destination.pdf\", \"wb\")\n",
    "output.write(output_stream)\n",
    "output_stream.close()"
   ]
  },
  {
   "cell_type": "code",
   "execution_count": 142,
   "metadata": {},
   "outputs": [],
   "source": [
    "from PyPDF2 import PdfReader, PdfWriter\n",
    "from reportlab.pdfgen import canvas\n",
    "from reportlab.lib.pagesizes import letter\n",
    "import io\n",
    "\n",
    "# Function to add text to PDF\n",
    "def add_text_to_pdf(input_pdf, output_pdf, text, x, y):\n",
    "    # Read the existing PDF\n",
    "    reader = PdfReader(input_pdf)\n",
    "    writer = PdfWriter()\n",
    "    \n",
    "    # Create a new PDF to overlay the text\n",
    "    packet = io.BytesIO()\n",
    "    can = canvas.Canvas(packet, pagesize=letter)\n",
    "    \n",
    "    # Set the font and size\n",
    "    can.setFont(\"Helvetica\", 12)\n",
    "    \n",
    "    # Draw the text at the specified position (x, y)\n",
    "    can.setFillColorRGB(0, 0, 0)  # Set text color to black\n",
    "    can.drawString(x, y, text)\n",
    "    can.save()\n",
    "    \n",
    "    # Move to the beginning of the StringIO buffer\n",
    "    packet.seek(0)\n",
    "    \n",
    "    # Read the overlay PDF\n",
    "    overlay = PdfReader(packet)\n",
    "    overlay_page = overlay.pages[0]\n",
    "    \n",
    "    # Merge the overlay with the original PDF\n",
    "    for page in reader.pages:\n",
    "        page.merge_page(overlay_page)\n",
    "        writer.add_page(page)\n",
    "    \n",
    "    # Save the result to a new PDF\n",
    "    with open(output_pdf, \"wb\") as output_file:\n",
    "        writer.write(output_file)\n",
    "\n",
    "# Example usage\n",
    "input_pdf = \"/Users/mac/Documents/Mailme.AI/letterhead/base.pdf\"  # Path to your letterhead PDF\n",
    "output_pdf = \"destination.pdf\"  # Output PDF\n",
    "text = \"This is a sample text\"  # Text to add\n",
    "\n",
    "\n",
    "x, y = 100, 750  # Position of the text (in points)\n",
    "\n",
    "add_text_to_pdf(input_pdf, output_pdf, text, x, y)\n"
   ]
  },
  {
   "cell_type": "code",
   "execution_count": null,
   "metadata": {},
   "outputs": [],
   "source": []
  }
 ],
 "metadata": {
  "kernelspec": {
   "display_name": "base",
   "language": "python",
   "name": "python3"
  },
  "language_info": {
   "codemirror_mode": {
    "name": "ipython",
    "version": 3
   },
   "file_extension": ".py",
   "mimetype": "text/x-python",
   "name": "python",
   "nbconvert_exporter": "python",
   "pygments_lexer": "ipython3",
   "version": "3.11.5"
  }
 },
 "nbformat": 4,
 "nbformat_minor": 2
}
