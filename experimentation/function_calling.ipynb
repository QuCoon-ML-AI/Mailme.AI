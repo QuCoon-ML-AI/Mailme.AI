{
 "cells": [
  {
   "cell_type": "code",
   "execution_count": 43,
   "metadata": {},
   "outputs": [],
   "source": [
    "import os\n",
    "import openai\n",
    "from openai import OpenAI\n",
    "import json"
   ]
  },
  {
   "cell_type": "code",
   "execution_count": 5,
   "metadata": {},
   "outputs": [],
   "source": [
    "client = OpenAI(api_key = os.getenv('OPENAI_API_KEY'))"
   ]
  },
  {
   "cell_type": "code",
   "execution_count": 93,
   "metadata": {},
   "outputs": [],
   "source": [
    "system_prompt = \"\"\"\n",
    "You are a very experienced Personal Assistant with expertise in drafting out informal emails to from conversations.\n",
    "Generate an appropriate subject line and body for the text of the conversation provided.  Do not leave any template to be filled.\n",
    "Generate a complete and thorough email with the context you have.\"\"\""
   ]
  },
  {
   "cell_type": "code",
   "execution_count": 126,
   "metadata": {},
   "outputs": [],
   "source": [
    "generate_email_tool = [\n",
    "    {\n",
    "        'type': 'function',\n",
    "        'function': {\n",
    "            'name': 'extract_email_details',\n",
    "            'description': 'Extract/Generate a subject/theme and body for an email from the provided text. Ignore all email addresses in the text.',\n",
    "            'parameters': {\n",
    "                'type': 'object',\n",
    "                'properties': {\n",
    "                    'subject': {\n",
    "                        'type': 'string',\n",
    "                        'items': {\n",
    "                            'type': 'string',\n",
    "                        },\n",
    "                        'description': 'The subject of the email extracted from the text. If multiple emails are found, do not personalise the email. And do not include any extra information. Only details from the text.  Do not leave any template to be filled. Generate a complete and thorough body of the email with the context you have.\"'\n",
    "                    },\n",
    "                    'body': {\n",
    "                        'type': 'string',\n",
    "                        'items': {\n",
    "                            'type': 'string',\n",
    "                        },\n",
    "                        'description': 'A fully formatted body of the email with the appropriate greetings and closings.'\n",
    "                    }\n",
    "                }\n",
    "            },\n",
    "            'required': ['subject', 'body']\n",
    "        },\n",
    "        'instruction': system_prompt\n",
    "    }\n",
    "]"
   ]
  },
  {
   "cell_type": "code",
   "execution_count": 127,
   "metadata": {},
   "outputs": [],
   "source": [
    "prompt = \"I have a meeting by 6pm today and I want to send an email reminder to my husband to help pick up the kids from school and take them home for me. Draft an email reminder to my husband showing my concern and I would greatly appreciate the help just for today. My husband's email address is samuelbamgbola@gmail.com. And my name is Samuel Bamgbola\""
   ]
  },
  {
   "cell_type": "code",
   "execution_count": 128,
   "metadata": {},
   "outputs": [],
   "source": [
    "completion = client.chat.completions.create(\n",
    "    temperature=0.5,\n",
    "    model=\"gpt-4o\",\n",
    "    messages = [\n",
    "        {\"role\": \"system\", \"content\": system_prompt},\n",
    "        {\"role\": \"user\", \"content\": prompt}],\n",
    "    tools=generate_email_tool,\n",
    "    tool_choice='required',\n",
    ")"
   ]
  },
  {
   "cell_type": "code",
   "execution_count": 129,
   "metadata": {},
   "outputs": [],
   "source": [
    "response = completion.choices[0].message.tool_calls[0].function.arguments"
   ]
  },
  {
   "cell_type": "code",
   "execution_count": 133,
   "metadata": {},
   "outputs": [
    {
     "data": {
      "text/plain": [
       "'{\"subject\": \"Reminder to Pick Up Kids from School\", \"body\": \"Hi dear,\\\\n\\\\nI hope you\\'re doing well. I just wanted to send a quick reminder that I have a meeting at 6pm today. Could you please help pick up the kids from school and take them home for me? I would greatly appreciate the help just for today.\\\\n\\\\nThank you so much!\\\\n\\\\nBest,\\\\nSamuel\"}'"
      ]
     },
     "execution_count": 133,
     "metadata": {},
     "output_type": "execute_result"
    }
   ],
   "source": [
    "completion.choices[0].message.tool_calls[0].function.arguments"
   ]
  },
  {
   "cell_type": "code",
   "execution_count": 130,
   "metadata": {},
   "outputs": [],
   "source": [
    "full_response = json.loads(response)"
   ]
  },
  {
   "cell_type": "code",
   "execution_count": 131,
   "metadata": {},
   "outputs": [
    {
     "name": "stdout",
     "output_type": "stream",
     "text": [
      "Reminder to Pick Up Kids from School\n"
     ]
    }
   ],
   "source": [
    "print(full_response[\"subject\"])"
   ]
  },
  {
   "cell_type": "code",
   "execution_count": 132,
   "metadata": {},
   "outputs": [
    {
     "name": "stdout",
     "output_type": "stream",
     "text": [
      "Hi dear,\n",
      "\n",
      "I hope you're doing well. I just wanted to send a quick reminder that I have a meeting at 6pm today. Could you please help pick up the kids from school and take them home for me? I would greatly appreciate the help just for today.\n",
      "\n",
      "Thank you so much!\n",
      "\n",
      "Best,\n",
      "Samuel\n"
     ]
    }
   ],
   "source": [
    "print(full_response[\"body\"])"
   ]
  },
  {
   "cell_type": "code",
   "execution_count": 141,
   "metadata": {},
   "outputs": [],
   "source": [
    "from PyPDF2 import PdfWriter, PdfReader\n",
    "import io\n",
    "from reportlab.pdfgen import canvas\n",
    "from reportlab.lib.pagesizes import letter\n",
    "\n",
    "packet = io.BytesIO()\n",
    "can = canvas.Canvas(packet, pagesize=letter)\n",
    "can.drawString(10, 100, \"Hello world\")\n",
    "can.save()\n",
    "\n",
    "#move to the beginning of the StringIO buffer\n",
    "packet.seek(0)\n",
    "\n",
    "# create a new PDF with Reportlab\n",
    "new_pdf = PdfReader(packet)\n",
    "# read your existing PDF\n",
    "existing_pdf = PdfReader(open(\"/Users/mac/Documents/Mailme.AI/letterhead/base.pdf\", \"rb\"))\n",
    "# packet_2 = io.BytesIO()\n",
    "\n",
    "# output = PdfReader(packet_2)\n",
    "# add the \"watermark\" (which is the new pdf) on the existing page\n",
    "page = existing_pdf.pages[0]\n",
    "page.merge_page(new_pdf.pages[0])\n",
    "output = PdfWriter(open(\"/Users/mac/Documents/Mailme.AI/letterhead/blank.pdf\", \"rb\"))\n",
    "# output.add_page(page)\n",
    "# finally, write \"output\" to a real file\n",
    "output_stream = open(\"destination.pdf\", \"wb\")\n",
    "output.write(output_stream)\n",
    "output_stream.close()"
   ]
  },
  {
   "cell_type": "code",
   "execution_count": 142,
   "metadata": {},
   "outputs": [],
   "source": [
    "from PyPDF2 import PdfReader, PdfWriter\n",
    "from reportlab.pdfgen import canvas\n",
    "from reportlab.lib.pagesizes import letter\n",
    "import io\n",
    "\n",
    "# Function to add text to PDF\n",
    "def add_text_to_pdf(input_pdf, output_pdf, text, x, y):\n",
    "    # Read the existing PDF\n",
    "    reader = PdfReader(input_pdf)\n",
    "    writer = PdfWriter()\n",
    "    \n",
    "    # Create a new PDF to overlay the text\n",
    "    packet = io.BytesIO()\n",
    "    can = canvas.Canvas(packet, pagesize=letter)\n",
    "    \n",
    "    # Set the font and size\n",
    "    can.setFont(\"Helvetica\", 12)\n",
    "    \n",
    "    # Draw the text at the specified position (x, y)\n",
    "    can.setFillColorRGB(0, 0, 0)  # Set text color to black\n",
    "    can.drawString(x, y, text)\n",
    "    can.save()\n",
    "    \n",
    "    # Move to the beginning of the StringIO buffer\n",
    "    packet.seek(0)\n",
    "    \n",
    "    # Read the overlay PDF\n",
    "    overlay = PdfReader(packet)\n",
    "    overlay_page = overlay.pages[0]\n",
    "    \n",
    "    # Merge the overlay with the original PDF\n",
    "    for page in reader.pages:\n",
    "        page.merge_page(overlay_page)\n",
    "        writer.add_page(page)\n",
    "    \n",
    "    # Save the result to a new PDF\n",
    "    with open(output_pdf, \"wb\") as output_file:\n",
    "        writer.write(output_file)\n",
    "\n",
    "# Example usage\n",
    "input_pdf = \"/Users/mac/Documents/Mailme.AI/letterhead/base.pdf\"  # Path to your letterhead PDF\n",
    "output_pdf = \"destination.pdf\"  # Output PDF\n",
    "text = \"This is a sample text\"  # Text to add\n",
    "\n",
    "\n",
    "x, y = 100, 750  # Position of the text (in points)\n",
    "\n",
    "add_text_to_pdf(input_pdf, output_pdf, text, x, y)\n"
   ]
  },
  {
   "cell_type": "code",
   "execution_count": 21,
   "metadata": {},
   "outputs": [
    {
     "name": "stdout",
     "output_type": "stream",
     "text": [
      "612.0 792.0\n",
      "200.34\n"
     ]
    }
   ],
   "source": [
    "from PyPDF2 import PdfReader, PdfWriter\n",
    "from reportlab.pdfgen import canvas\n",
    "from reportlab.lib.pagesizes import letter\n",
    "import io\n",
    "\n",
    "# Function to add text to PDF\n",
    "def add_text_to_pdf(input_pdf, output_pdf, address, subject, body):\n",
    "    # Read the existing PDF\n",
    "    reader = PdfReader(input_pdf)\n",
    "    writer = PdfWriter()\n",
    "    \n",
    "    # Create a new PDF to overlay the text\n",
    "    packet = io.BytesIO()\n",
    "    can = canvas.Canvas(packet, pagesize=letter)\n",
    "    \n",
    "    # Set font and text properties\n",
    "    can.setFont(\"Times-Bold\", 14)  # Bold font for the subject\n",
    "\n",
    "    # Calculate the width of the subject string\n",
    "    subject_width = can.stringWidth(subject, \"Times-Bold\", 14)\n",
    "    \n",
    "    # Center the subject text (x position is half the page width minus half the text width)\n",
    "    page_width, page_height = letter[0], letter[1]  # Letter page width\n",
    "    print(page_width, page_height)\n",
    "    x_subject = (page_width - subject_width) / 2  # Centered position\n",
    "\n",
    "    # Draw the centered subject\n",
    "    can.drawString(x_subject, 550, f\"{subject}\")\n",
    "    \n",
    "    # Set font for normal text (address and body)\n",
    "    can.setFont(\"Times-Roman\", 12)\n",
    "    \n",
    "    # Right-align the address\n",
    "    address_width = can.stringWidth(address, \"Times-Roman\", 12)\n",
    "    print(address_width)\n",
    "    can.drawString(page_width - address_width - 65, 650, address)  # Adjust x position for right-align\n",
    "    \n",
    "    # Add the body text\n",
    "    can.drawString(65, 520, body)\n",
    "    \n",
    "    # Save the overlay PDF\n",
    "    can.save()\n",
    "    \n",
    "    # Move to the beginning of the StringIO buffer\n",
    "    packet.seek(0)\n",
    "    \n",
    "    # Read the overlay PDF\n",
    "    overlay = PdfReader(packet)\n",
    "    overlay_page = overlay.pages[0]\n",
    "    \n",
    "    # Merge the overlay with the original PDF (on the first page only)\n",
    "    first_page = reader.pages[0]\n",
    "    first_page.merge_page(overlay_page)\n",
    "    writer.add_page(first_page)\n",
    "    \n",
    "    # If there are multiple pages in the input, add the remaining pages\n",
    "    for page_num in range(1, len(reader.pages)):\n",
    "        writer.add_page(reader.pages[page_num])\n",
    "    \n",
    "    # Save the result to a new PDF\n",
    "    with open(output_pdf, \"wb\") as output_file:\n",
    "        writer.write(output_file)\n",
    "\n",
    "# Example usage\n",
    "input_pdf = \"/Users/mac/Documents/Mailme.AI/letterhead/base.pdf\"  # Path to your letterhead PDF\n",
    "output_pdf = \"destination.pdf\"  # Output PDF\n",
    "\n",
    "address = \"1234 Example St, Example City, Country\"  # Right-aligned address\n",
    "subject = \"Important Meeting\"  # Subject (Bold, Centered)\n",
    "body = \"This is the body of the email.\"  # Normal text body\n",
    "\n",
    "add_text_to_pdf(input_pdf, output_pdf, address, subject, body)\n"
   ]
  },
  {
   "cell_type": "code",
   "execution_count": 33,
   "metadata": {},
   "outputs": [],
   "source": [
    "import textwrap\n",
    "body = \"\"\"\n",
    "Hi Babe,\n",
    "\n",
    "I hope you're doing well. I just wanted to send you a quick reminder that I have a meeting at 6pm today. Could you please help me by picking up the kids from school and taking them home? I would greatly appreciate your help just for today.\n",
    "\n",
    "Thank you so much!\n",
    "\n",
    "Love,\n",
    "Samuel\n",
    "\"\"\""
   ]
  },
  {
   "cell_type": "code",
   "execution_count": 35,
   "metadata": {},
   "outputs": [
    {
     "name": "stdout",
     "output_type": "stream",
     "text": [
      "\n",
      "Hi Babe,\n",
      "\n",
      "I hope you're doing well. I just wanted to send you a quick reminder that I have a meeting at 6pm\n",
      "today. Could you please help me by picking up the kids from school and taking them home? I would\n",
      "greatly appreciate your help just for today.\n",
      "\n",
      "Thank you so much!\n",
      "\n",
      "Love,\n",
      "Samuel\n",
      "\n"
     ]
    }
   ],
   "source": [
    "group = body.split(\"\\n\")\n",
    "for line in group:\n",
    "    print(textwrap.fill(line, width=100))"
   ]
  },
  {
   "cell_type": "code",
   "execution_count": 36,
   "metadata": {},
   "outputs": [
    {
     "data": {
      "text/plain": [
       "str"
      ]
     },
     "execution_count": 36,
     "metadata": {},
     "output_type": "execute_result"
    }
   ],
   "source": [
    "type(textwrap.fill(line, width=100))"
   ]
  },
  {
   "cell_type": "code",
   "execution_count": 39,
   "metadata": {},
   "outputs": [
    {
     "data": {
      "text/plain": [
       "\" Hi Babe,  I hope you're doing well. I just wanted to send you a quick reminder that I have a\\nmeeting at 6pm today. Could you please help me by picking up the kids from school and taking them\\nhome? I would greatly appreciate your help just for today.  Thank you so much!  Love, Samuel\""
      ]
     },
     "execution_count": 39,
     "metadata": {},
     "output_type": "execute_result"
    }
   ],
   "source": [
    "textwrap.fill(body, width=100)"
   ]
  },
  {
   "cell_type": "code",
   "execution_count": 40,
   "metadata": {},
   "outputs": [
    {
     "data": {
      "text/plain": [
       "[\" Hi Babe,  I hope you're doing well. I just wanted to send you a quick reminder that I have a\",\n",
       " 'meeting at 6pm today. Could you please help me by picking up the kids from school and taking them',\n",
       " 'home? I would greatly appreciate your help just for today.  Thank you so much!  Love, Samuel']"
      ]
     },
     "execution_count": 40,
     "metadata": {},
     "output_type": "execute_result"
    }
   ],
   "source": [
    "textwrap.fill(body, width=100).split(\"\\n\")"
   ]
  },
  {
   "cell_type": "code",
   "execution_count": 43,
   "metadata": {},
   "outputs": [
    {
     "name": "stdout",
     "output_type": "stream",
     "text": [
      "\n",
      "Hi Babe,\n",
      "\n",
      "I hope you're doing well. I just wanted to send you a quick reminder that I have a meeting at 6pm\n",
      "today. Could you please help me by picking up the kids from school and taking them home? I would\n",
      "greatly appreciate your help just for today.\n",
      "\n",
      "Thank you so much!\n",
      "\n",
      "Love,\n",
      "Samuel\n",
      "\n"
     ]
    }
   ],
   "source": [
    "group = body.split(\"\\n\")\n",
    "for line in group:\n",
    "    all_together = textwrap.fill(line, width=100).split(\"\\n\")\n",
    "\n",
    "    for section in all_together:\n",
    "        print(textwrap.fill(section, width=100))"
   ]
  },
  {
   "cell_type": "code",
   "execution_count": null,
   "metadata": {},
   "outputs": [],
   "source": []
  }
 ],
 "metadata": {
  "kernelspec": {
   "display_name": "base",
   "language": "python",
   "name": "python3"
  },
  "language_info": {
   "codemirror_mode": {
    "name": "ipython",
    "version": 3
   },
   "file_extension": ".py",
   "mimetype": "text/x-python",
   "name": "python",
   "nbconvert_exporter": "python",
   "pygments_lexer": "ipython3",
   "version": "3.11.5"
  }
 },
 "nbformat": 4,
 "nbformat_minor": 2
}
