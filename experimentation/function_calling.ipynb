{
 "cells": [
  {
   "cell_type": "code",
   "execution_count": 43,
   "metadata": {},
   "outputs": [],
   "source": [
    "import os\n",
    "import openai\n",
    "from openai import OpenAI\n",
    "import json"
   ]
  },
  {
   "cell_type": "code",
   "execution_count": 5,
   "metadata": {},
   "outputs": [],
   "source": [
    "client = OpenAI(api_key = os.getenv('OPENAI_API_KEY'))"
   ]
  },
  {
   "cell_type": "code",
   "execution_count": 93,
   "metadata": {},
   "outputs": [],
   "source": [
    "system_prompt = \"\"\"\n",
    "You are a very experienced Personal Assistant with expertise in drafting out informal emails to from conversations.\n",
    "Generate an appropriate subject line and body for the text of the conversation provided.  Do not leave any template to be filled. Generate a complete and thorough email with the context you have.\"\"\""
   ]
  },
  {
   "cell_type": "code",
   "execution_count": 126,
   "metadata": {},
   "outputs": [],
   "source": [
    "generate_email_tool = [\n",
    "    {\n",
    "        'type': 'function',\n",
    "        'function': {\n",
    "            'name': 'extract_email_details',\n",
    "            'description': 'Extract/Generate a subject/theme and body for an email from the provided text. Ignore all email addresses in the text.',\n",
    "            'parameters': {\n",
    "                'type': 'object',\n",
    "                'properties': {\n",
    "                    'subject': {\n",
    "                        'type': 'string',\n",
    "                        'items': {\n",
    "                            'type': 'string',\n",
    "                        },\n",
    "                        'description': 'The subject of the email extracted from the text. If multiple emails are found, do not personalise the email. And do not include any extra information. Only details from the text.  Do not leave any template to be filled. Generate a complete and thorough body of the email with the context you have.\"'\n",
    "                    },\n",
    "                    'body': {\n",
    "                        'type': 'string',\n",
    "                        'items': {\n",
    "                            'type': 'string',\n",
    "                        },\n",
    "                        'description': 'A fully formatted body of the email with the appropriate greetings and closings.'\n",
    "                    }\n",
    "                }\n",
    "            },\n",
    "            'required': ['subject', 'body']\n",
    "        },\n",
    "        'instruction': system_prompt\n",
    "    }\n",
    "]"
   ]
  },
  {
   "cell_type": "code",
   "execution_count": 127,
   "metadata": {},
   "outputs": [],
   "source": [
    "prompt = \"I have a meeting by 6pm today and I want to send an email reminder to my husband to help pick up the kids from school and take them home for me. Draft an email reminder to my husband showing my concern and I would greatly appreciate the help just for today. My husband's email address is samuelbamgbola@gmail.com. And my name is Samuel Bamgbola\""
   ]
  },
  {
   "cell_type": "code",
   "execution_count": 128,
   "metadata": {},
   "outputs": [],
   "source": [
    "completion = client.chat.completions.create(\n",
    "    temperature=0.5,\n",
    "    model=\"gpt-4o\",\n",
    "    messages = [\n",
    "        {\"role\": \"system\", \"content\": system_prompt},\n",
    "        {\"role\": \"user\", \"content\": prompt}],\n",
    "    tools=generate_email_tool,\n",
    "    tool_choice='required',\n",
    ")"
   ]
  },
  {
   "cell_type": "code",
   "execution_count": 129,
   "metadata": {},
   "outputs": [],
   "source": [
    "response = completion.choices[0].message.tool_calls[0].function.arguments"
   ]
  },
  {
   "cell_type": "code",
   "execution_count": 130,
   "metadata": {},
   "outputs": [],
   "source": [
    "full_response = json.loads(response)\n"
   ]
  },
  {
   "cell_type": "code",
   "execution_count": 131,
   "metadata": {},
   "outputs": [
    {
     "name": "stdout",
     "output_type": "stream",
     "text": [
      "Reminder to Pick Up Kids from School\n"
     ]
    }
   ],
   "source": [
    "print(full_response[\"subject\"])"
   ]
  },
  {
   "cell_type": "code",
   "execution_count": 132,
   "metadata": {},
   "outputs": [
    {
     "name": "stdout",
     "output_type": "stream",
     "text": [
      "Hi dear,\n",
      "\n",
      "I hope you're doing well. I just wanted to send a quick reminder that I have a meeting at 6pm today. Could you please help pick up the kids from school and take them home for me? I would greatly appreciate the help just for today.\n",
      "\n",
      "Thank you so much!\n",
      "\n",
      "Best,\n",
      "Samuel\n"
     ]
    }
   ],
   "source": [
    "print(full_response[\"body\"])"
   ]
  },
  {
   "cell_type": "code",
   "execution_count": null,
   "metadata": {},
   "outputs": [],
   "source": []
  }
 ],
 "metadata": {
  "kernelspec": {
   "display_name": "base",
   "language": "python",
   "name": "python3"
  },
  "language_info": {
   "codemirror_mode": {
    "name": "ipython",
    "version": 3
   },
   "file_extension": ".py",
   "mimetype": "text/x-python",
   "name": "python",
   "nbconvert_exporter": "python",
   "pygments_lexer": "ipython3",
   "version": "3.11.5"
  }
 },
 "nbformat": 4,
 "nbformat_minor": 2
}
